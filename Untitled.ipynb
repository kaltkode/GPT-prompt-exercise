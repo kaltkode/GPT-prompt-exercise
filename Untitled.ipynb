{
 "cells": [
  {
   "cell_type": "code",
   "execution_count": 4,
   "metadata": {},
   "outputs": [],
   "source": [
    "#!pip install openai\n",
    "#!pip install os\n",
    "\n",
    "import openai\n",
    "import os\n",
    "\n",
    "os.environ['API_KEY'] = 'KEY'\n",
    "openai.api_key = os.getenv('API_KEY')\n",
    "\n",
    "#print(openai.api_key)\n",
    "\n"
   ]
  },
  {
   "cell_type": "code",
   "execution_count": 15,
   "metadata": {},
   "outputs": [
    {
     "name": "stdout",
     "output_type": "stream",
     "text": [
      "Create multiple choice quiz on FinlandThe quiz should consist of 4 questions. Each quesions should have  4 options and quiz shall be in Finnish languagefor exmaple, \"what is the correct way to define a function in Python?\", Options are: 1) \"define my_function()\" 2) \"func my_function()\", 3) \"def my_function():\", 4) \"functions my_function():\", Correct Answer: \"def my_function():\"\n"
     ]
    }
   ],
   "source": [
    "#basic_prompt = 'python quiz. 5 questions. 4 options each'\n",
    "\n",
    "#instructions = 'Create multiple choice quiz on topic of Python'\n",
    "#details = 'The quiz should consist of 4 questions. Each quesions should have  4 options'\n",
    "\n",
    "instructions = 'Create multiple choice quiz on Finland'\n",
    "details = 'The quiz should consist of 4 questions. Each quesions should have  4 options and quiz shall be in Finnish language'\n",
    "example = 'for exmaple, \"what is the correct way to define a function in Python?\", '\\\n",
    "        + 'Options are: 1) \"define my_function()\" 2) \"func my_function()\", '\\\n",
    "        + '3) \"def my_function():\", 4) \"functions my_function():\", '\\\n",
    "        + 'Correct Answer: \"def my_function():\"'\n",
    "\n",
    "\n",
    "prompt = instructions + details +example\n",
    "print (prompt)\n",
    "\n",
    "#def create_prompt(topic, num_qs, num_possible_answers):\n",
    "#    instructions = f'Create multiple choice quiz on {topic}.'\n",
    "#    details = f'The quiz should consist of {num_qs} questions. Each quesions should have {num_possible_answers} options with one correct answer ' \n",
    "#    example = 'for exmaple, \"what is the correct way to define a function in Python?\", '\\\n",
    "#        + 'Options are: 1) \"define my_function()\" 2) \"func my_function()\", '\\\n",
    "#        + '3) \"def my_function():\", 4) \"functions my_function():\", '\\\n",
    "#        + 'Correct Answer: \"def my_function():\"'\n",
    "#    direct = 'quiz should be challenging but overly complex. the correct answer should be selected randomly' \\\n",
    "#        + 'from the available answers'\n",
    "#    quantitative = 'Each question should a have difficulty level of 7 on a scale of 1 to 10'\n",
    "\n",
    "#    return instructions + details +example + direct + quantitative\n",
    "#print (create_prompt('python',3,4))"
   ]
  },
  {
   "cell_type": "code",
   "execution_count": 19,
   "metadata": {},
   "outputs": [
    {
     "name": "stdout",
     "output_type": "stream",
     "text": [
      "\n",
      "\n",
      "1. Mikä on Suomen pääkaupunki?\n",
      "a) Helsinki\n",
      "b) Kööpenhamina\n",
      "c) Turku\n",
      "d) Tukholma\n",
      "Oikea vastaus: a) Helsinki\n",
      "\n",
      "2. Mistä merenlahdesta Suomi rajoittuu?\n",
      "a) Itämeren\n",
      "b) Suur-Luoteisuskontin\n",
      "c) Karibian\n",
      "d) Välimeri\n",
      "Oikea vastaus: a) Itämeren\n",
      "\n",
      "3. Mikä on Suomen suurin kaupunki?\n",
      "a) Espoo\n",
      "b) Oulu\n",
      "c) Tampere\n",
      "d) Helsinki\n",
      "Oikea vastaus: d) Helsinki\n",
      "\n",
      "4. Minkä maan kanssa Suomi jakaa sivusta suurimman naapurin?\n",
      "a) Norja\n",
      "b) Ruotsi\n",
      "c) Valko-Venäjä\n",
      "d) Venäjä\n",
      "Oikea vastaus: d) Venäjä\n"
     ]
    }
   ],
   "source": [
    "response = openai.Completion.create(\n",
    "    engine = 'text-davinci-003',\n",
    "    prompt = prompt, #create_prompt('python',3,4 ),\n",
    "    max_tokens = 512\n",
    ")\n",
    "\n",
    "print(response['choices'][0]['text'])"
   ]
  },
  {
   "cell_type": "code",
   "execution_count": null,
   "metadata": {},
   "outputs": [],
   "source": []
  }
 ],
 "metadata": {
  "kernelspec": {
   "display_name": "Python 3",
   "language": "python",
   "name": "python3"
  },
  "language_info": {
   "codemirror_mode": {
    "name": "ipython",
    "version": 3
   },
   "file_extension": ".py",
   "mimetype": "text/x-python",
   "name": "python",
   "nbconvert_exporter": "python",
   "pygments_lexer": "ipython3",
   "version": "3.8.5"
  }
 },
 "nbformat": 4,
 "nbformat_minor": 4
}
