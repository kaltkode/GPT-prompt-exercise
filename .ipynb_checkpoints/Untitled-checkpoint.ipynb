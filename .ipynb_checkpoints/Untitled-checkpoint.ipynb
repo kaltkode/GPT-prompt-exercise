{
 "cells": [
  {
   "cell_type": "code",
   "execution_count": 4,
   "metadata": {},
   "outputs": [],
   "source": [
    "#!pip install openai\n",
    "#!pip install os\n",
    "\n",
    "import openai\n",
    "import os\n",
    "\n",
    "os.environ['API_KEY'] = 'KEY'\n",
    "openai.api_key = os.getenv('API_KEY')\n",
    "\n",
    "#print(openai.api_key)\n",
    "\n"
   ]
  },
  {
   "cell_type": "code",
   "execution_count": 15,
   "metadata": {},
   "outputs": [
    {
     "name": "stdout",
     "output_type": "stream",
     "text": [
      "Create multiple choice quiz on FinlandThe quiz should consist of 4 questions. Each quesions should have  4 options and quiz shall be in Finnish languagefor exmaple, \"what is the correct way to define a function in Python?\", Options are: 1) \"define my_function()\" 2) \"func my_function()\", 3) \"def my_function():\", 4) \"functions my_function():\", Correct Answer: \"def my_function():\"\n"
     ]
    }
   ],
   "source": [
    "#basic_prompt = 'python quiz. 5 questions. 4 options each'\n",
    "\n",
    "#instructions = 'Create multiple choice quiz on topic of Python'\n",
    "#details = 'The quiz should consist of 4 questions. Each quesions should have  4 options'\n",
    "\n",
    "instructions = 'Create multiple choice quiz on Finland'\n",
    "details = 'The quiz should consist of 4 questions. Each quesions should have  4 options and quiz shall be in Finnish language'\n",
    "example = 'for exmaple, \"what is the correct way to define a function in Python?\", '\\\n",
    "        + 'Options are: 1) \"define my_function()\" 2) \"func my_function()\", '\\\n",
    "        + '3) \"def my_function():\", 4) \"functions my_function():\", '\\\n",
    "        + 'Correct Answer: \"def my_function():\"'\n",
    "\n",
    "\n",
    "prompt = instructions + details +example\n",
    "print (prompt)\n",
    "\n",
    "#def create_prompt(topic, num_qs, num_possible_answers):\n",
    "#    instructions = f'Create multiple choice quiz on {topic}.'\n",
    "#    details = f'The quiz should consist of {num_qs} questions. Each quesions should have {num_possible_answers} options with one correct answer ' \n",
    "#    example = 'for exmaple, \"what is the correct way to define a function in Python?\", '\\\n",
    "#        + 'Options are: 1) \"define my_function()\" 2) \"func my_function()\", '\\\n",
    "#        + '3) \"def my_function():\", 4) \"functions my_function():\", '\\\n",
    "#        + 'Correct Answer: \"def my_function():\"'\n",
    "#    direct = 'quiz should be challenging but overly complex. the correct answer should be selected randomly' \\\n",
    "#        + 'from the available answers'\n",
    "#    quantitative = 'Each question should a have difficulty level of 7 on a scale of 1 to 10'\n",
    "\n",
    "#    return instructions + details +example + direct + quantitative\n",
    "#print (create_prompt('python',3,4))"
   ]
  },
  {
   "cell_type": "code",
   "execution_count": 17,
   "metadata": {},
   "outputs": [
    {
     "name": "stdout",
     "output_type": "stream",
     "text": [
      "\n",
      "\n",
      "1) Missä maassa Suomen pääkaupunki sijaitsee? \n",
      "a) Tanska b) Norja c) Ruotsi d) Suomi\n",
      "Vastaus: Suomi\n",
      "\n",
      "2) Minkä vuoden jälkeen Suomi oli liittymässä EU:hun?\n",
      "a) 1997 b) 1995 c) 1990 d) 2000\n",
      "Vastaus: 1995\n",
      "\n",
      "3) Mitä kolmea virallista kieltä Suomessa puhutaan?\n",
      "a) Suomi, saksa ja hollanti b) Suomi, ruotsi ja englanti c) Suomi, ruotsi ja norja d) Suomi, tanska ja ruotsi\n",
      "Vastaus: Suomi, ruotsi ja englanti\n",
      "\n",
      "4) Mikä seuraavista on osa Suomen lippua?\n",
      "a) Punainen pallo b) Valkoinen pallo c) Sininen pallo d) Musta pallo\n",
      "Vastaus: Sininen pallo\n"
     ]
    }
   ],
   "source": [
    "response = openai.Completion.create(\n",
    "    engine = 'text-davinci-003',\n",
    "    prompt = prompt, #create_prompt('python',3,4 ),\n",
    "    max_tokens = 512\n",
    ")\n",
    "\n",
    "print(response['choices'][0]['text'])"
   ]
  },
  {
   "cell_type": "code",
   "execution_count": null,
   "metadata": {},
   "outputs": [],
   "source": []
  }
 ],
 "metadata": {
  "kernelspec": {
   "display_name": "Python 3",
   "language": "python",
   "name": "python3"
  },
  "language_info": {
   "codemirror_mode": {
    "name": "ipython",
    "version": 3
   },
   "file_extension": ".py",
   "mimetype": "text/x-python",
   "name": "python",
   "nbconvert_exporter": "python",
   "pygments_lexer": "ipython3",
   "version": "3.8.5"
  }
 },
 "nbformat": 4,
 "nbformat_minor": 4
}
